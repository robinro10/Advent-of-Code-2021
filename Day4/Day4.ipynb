{
 "cells": [
  {
   "cell_type": "markdown",
   "id": "bbc9a8ac-3a1b-4bb2-b4e1-f9658a89b805",
   "metadata": {},
   "source": [
    "# Partie 1"
   ]
  },
  {
   "cell_type": "code",
   "execution_count": 178,
   "id": "53d34b55-c329-4b4c-9739-2fd6ce280c19",
   "metadata": {},
   "outputs": [
    {
     "data": {
      "text/plain": [
       "[31,\n",
       " 88,\n",
       " 35,\n",
       " 24,\n",
       " 46,\n",
       " 48,\n",
       " 95,\n",
       " 42,\n",
       " 18,\n",
       " 43,\n",
       " 71,\n",
       " 32,\n",
       " 92,\n",
       " 62,\n",
       " 97,\n",
       " 63,\n",
       " 50,\n",
       " 2,\n",
       " 60,\n",
       " 58,\n",
       " 74,\n",
       " 66,\n",
       " 15,\n",
       " 87,\n",
       " 57,\n",
       " 34,\n",
       " 14,\n",
       " 3,\n",
       " 54,\n",
       " 93,\n",
       " 75,\n",
       " 22,\n",
       " 45,\n",
       " 10,\n",
       " 56,\n",
       " 12,\n",
       " 83,\n",
       " 30,\n",
       " 8,\n",
       " 76,\n",
       " 1,\n",
       " 78,\n",
       " 82,\n",
       " 39,\n",
       " 98,\n",
       " 37,\n",
       " 19,\n",
       " 26,\n",
       " 81,\n",
       " 64,\n",
       " 55,\n",
       " 41,\n",
       " 16,\n",
       " 4,\n",
       " 72,\n",
       " 5,\n",
       " 52,\n",
       " 80,\n",
       " 84,\n",
       " 67,\n",
       " 21,\n",
       " 86,\n",
       " 23,\n",
       " 91,\n",
       " 0,\n",
       " 68,\n",
       " 36,\n",
       " 13,\n",
       " 44,\n",
       " 20,\n",
       " 69,\n",
       " 40,\n",
       " 90,\n",
       " 96,\n",
       " 27,\n",
       " 77,\n",
       " 38,\n",
       " 49,\n",
       " 94,\n",
       " 47,\n",
       " 9,\n",
       " 65,\n",
       " 28,\n",
       " 59,\n",
       " 79,\n",
       " 6,\n",
       " 29,\n",
       " 61,\n",
       " 53,\n",
       " 11,\n",
       " 17,\n",
       " 73,\n",
       " 99,\n",
       " 25,\n",
       " 89,\n",
       " 51,\n",
       " 7,\n",
       " 33,\n",
       " 85,\n",
       " 70]"
      ]
     },
     "execution_count": 178,
     "metadata": {},
     "output_type": "execute_result"
    }
   ],
   "source": [
    "import numpy as np\n",
    "import copy\n",
    "\n",
    "row = 5\n",
    "col = 5\n",
    "\n",
    "bingo = {}\n",
    "\n",
    "with open(\"input4.txt\", \"r\") as file:\n",
    "    lines = file.readlines()\n",
    "\n",
    "nbBoards = int(len(lines) / (row+1))\n",
    "\n",
    "inputs = list(map(int, lines[0].strip(\"\\n\").split(\",\")))\n",
    "\n",
    "for i in range(nbBoards):\n",
    "    \n",
    "    line = list()\n",
    "    for j in range(row):\n",
    "        index = 2 + i*(row+1) + j\n",
    "        line.extend(lines[index].strip().split())\n",
    "    \n",
    "    board = np.array(line).reshape(row, col).astype(int)\n",
    "    bingo[i] = board\n",
    "\n",
    "inputs"
   ]
  },
  {
   "cell_type": "code",
   "execution_count": 179,
   "id": "e2dc4e1c-b73f-4826-a297-a027b9773803",
   "metadata": {},
   "outputs": [
    {
     "name": "stdout",
     "output_type": "stream",
     "text": [
      "66\n"
     ]
    },
    {
     "data": {
      "text/plain": [
       "array([[84, 78,  3, 44, 96],\n",
       "       [59, 86, 70, 80, -1],\n",
       "       [93, -1, 52, -1, 61],\n",
       "       [-1, -1, -1, -1, -1],\n",
       "       [ 5, 25,  6, 85, 99]])"
      ]
     },
     "execution_count": 179,
     "metadata": {},
     "output_type": "execute_result"
    }
   ],
   "source": [
    "finish = False\n",
    "tmp = copy.deepcopy(bingo)\n",
    "\n",
    "for x in inputs:\n",
    "    for i in range(len(tmp)):\n",
    "        tmp[i][tmp[i] == x] = -1\n",
    "        if np.all(tmp[i] == np.full((1, col), -1), axis=1).any() or np.all(tmp[i] == np.full((1, col), -1), axis=0).any():\n",
    "            finish = True\n",
    "            res = i\n",
    "            lastInput = x\n",
    "            break\n",
    "        \n",
    "    if finish:\n",
    "        break\n",
    "\n",
    "print(lastInput)\n",
    "tmp[res]"
   ]
  },
  {
   "cell_type": "code",
   "execution_count": 180,
   "id": "af74865a-c472-456e-b082-0da50a719ae3",
   "metadata": {},
   "outputs": [
    {
     "data": {
      "text/plain": [
       "67716"
      ]
     },
     "execution_count": 180,
     "metadata": {},
     "output_type": "execute_result"
    }
   ],
   "source": [
    "tmp[res][tmp[res] != -1].sum() * lastInput"
   ]
  },
  {
   "cell_type": "markdown",
   "id": "052c1c8c-a806-4afe-9d8d-1c593dd01a55",
   "metadata": {},
   "source": [
    "# Partie 2"
   ]
  },
  {
   "cell_type": "code",
   "execution_count": 181,
   "id": "bae2e41a-6aac-40bc-98e7-c002c77f732d",
   "metadata": {},
   "outputs": [
    {
     "name": "stdout",
     "output_type": "stream",
     "text": [
      "6\n"
     ]
    },
    {
     "data": {
      "text/plain": [
       "array([[-1, -1, -1, -1, -1],\n",
       "       [-1, 70, -1, -1, -1],\n",
       "       [-1, 53, 51, -1, -1],\n",
       "       [-1, 25, -1, -1, 33],\n",
       "       [73, -1, -1, -1, -1]])"
      ]
     },
     "execution_count": 181,
     "metadata": {},
     "output_type": "execute_result"
    }
   ],
   "source": [
    "finish = False\n",
    "tmp = copy.deepcopy(bingo)\n",
    "winners = set()\n",
    "\n",
    "for x in inputs:\n",
    "    \n",
    "    for i in range(len(tmp)):\n",
    "        \n",
    "        tmp[i][tmp[i] == x] = -1\n",
    "        if np.all(tmp[i] == np.full((1, col), -1), axis=1).any() or np.all(tmp[i] == np.full((1, col), -1), axis=0).any():\n",
    "            winners.add(i)\n",
    "            if len(winners) == len(tmp):\n",
    "                res = i\n",
    "                lastInput = x\n",
    "                finish = True\n",
    "                break\n",
    "    if finish:\n",
    "        break\n",
    "\n",
    "print(lastInput)\n",
    "tmp[res]"
   ]
  },
  {
   "cell_type": "code",
   "execution_count": 182,
   "id": "d95d1140-2e0a-41ad-9d6c-eb1c299341c2",
   "metadata": {},
   "outputs": [
    {
     "data": {
      "text/plain": [
       "1830"
      ]
     },
     "execution_count": 182,
     "metadata": {},
     "output_type": "execute_result"
    }
   ],
   "source": [
    "tmp[res][tmp[res] != -1].sum() * lastInput"
   ]
  }
 ],
 "metadata": {
  "kernelspec": {
   "display_name": "Python 3 (ipykernel)",
   "language": "python",
   "name": "python3"
  },
  "language_info": {
   "codemirror_mode": {
    "name": "ipython",
    "version": 3
   },
   "file_extension": ".py",
   "mimetype": "text/x-python",
   "name": "python",
   "nbconvert_exporter": "python",
   "pygments_lexer": "ipython3",
   "version": "3.8.10"
  }
 },
 "nbformat": 4,
 "nbformat_minor": 5
}
