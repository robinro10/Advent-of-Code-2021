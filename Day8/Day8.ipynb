{
 "cells": [
  {
   "cell_type": "markdown",
   "id": "12abeb82-a83c-437c-9367-27f658131252",
   "metadata": {},
   "source": [
    "# Partie 1"
   ]
  },
  {
   "cell_type": "code",
   "execution_count": 31,
   "id": "8768090b-5b4a-4b21-a782-2fd9b7b44d46",
   "metadata": {},
   "outputs": [],
   "source": [
    "import numpy as np\n",
    "\n",
    "with open(\"input8.txt\", \"r\") as file:\n",
    "    lines = file.readlines()\n",
    "    \n",
    "out = {}\n",
    "pattern = {}\n",
    "\n",
    "for i in range(len(lines)):\n",
    "    line = lines[i].strip().split(\" | \")\n",
    "    \n",
    "    pattern[i] = np.array([\"\".join(sorted(sp)) for sp in line[0].split(\" \")])\n",
    "    out[i] = np.array([\"\".join(sorted(sp)) for sp in line[1].split(\" \")])"
   ]
  },
  {
   "cell_type": "code",
   "execution_count": 32,
   "id": "8859e2b2-af5b-43f2-8700-8e16b80662b1",
   "metadata": {},
   "outputs": [
    {
     "data": {
      "text/plain": [
       "479"
      ]
     },
     "execution_count": 32,
     "metadata": {},
     "output_type": "execute_result"
    }
   ],
   "source": [
    "digits7 = 3\n",
    "digits1 = 2\n",
    "digits8 = 7\n",
    "digits4 = 4\n",
    "nb = 0\n",
    "\n",
    "for i in range(len(out)):\n",
    "    \n",
    "    lenArray = np.vectorize(len)(out[i])\n",
    "    \n",
    "    nb += np.sum((lenArray == digits7) | (lenArray == digits1) | (lenArray == digits8) | (lenArray == digits4))\n",
    "    \n",
    "nb"
   ]
  },
  {
   "cell_type": "markdown",
   "id": "ac6e6359-b0ae-41db-9726-60d6c6422534",
   "metadata": {},
   "source": [
    "# Partie 2"
   ]
  },
  {
   "cell_type": "code",
   "execution_count": 33,
   "id": "7fb15757-05cd-4ad3-9c64-cc3453d2768d",
   "metadata": {},
   "outputs": [
    {
     "data": {
      "text/plain": [
       "1041746"
      ]
     },
     "execution_count": 33,
     "metadata": {},
     "output_type": "execute_result"
    }
   ],
   "source": [
    "digits0 = 6\n",
    "digits1 = 2\n",
    "digits2 = 5\n",
    "digits3 = 5\n",
    "digits4 = 4\n",
    "digits5 = 5\n",
    "digits6 = 6\n",
    "digits7 = 3\n",
    "digits8 = 7\n",
    "digits9 = 6\n",
    "\n",
    "digits = {}\n",
    "\n",
    "res = 0\n",
    "\n",
    "for i in range(len(pattern)):\n",
    "\n",
    "    for pat in pattern[i]:\n",
    "\n",
    "        if len(pat) == digits1:\n",
    "            digits[\"1\"] = pat\n",
    "        elif len(pat) == digits4:\n",
    "            digits[\"4\"] = pat\n",
    "        elif len(pat) == digits7:\n",
    "            digits[\"7\"] = pat\n",
    "        elif len(pat) == digits8:\n",
    "            digits[\"8\"] = pat\n",
    "\n",
    "    for pat in pattern[i]:\n",
    "        #digits 9, 6, 0\n",
    "        if len(pat) == digits9 and len(set(pat) & set(digits[\"4\"])) == 4 :\n",
    "            digits[\"9\"] = pat\n",
    "        elif len(pat) == digits0 and len(set(pat) & set(digits[\"1\"])) == 2 :\n",
    "            digits[\"0\"] = pat\n",
    "        elif len(pat) == digits6:\n",
    "            digits[\"6\"] = pat\n",
    "\n",
    "        #digits 2, 3, 5\n",
    "        elif len(pat) == digits2 and len(set(pat) & set(digits[\"4\"])) == 2 :\n",
    "            digits[\"2\"] = pat\n",
    "        elif len(pat) == digits3 and len(set(pat) & set(digits[\"1\"])) == 2 :\n",
    "            digits[\"3\"] = pat\n",
    "        elif len(pat) == digits5:\n",
    "            digits[\"5\"] = pat\n",
    "    \n",
    "    tmp = 0    \n",
    "    digits = dict(map(reversed, digits.items()))\n",
    "    for j in range(4):\n",
    "        res = res + pow(10, j) * int(digits.get(out[i][3-j]))\n",
    "            \n",
    "res"
   ]
  },
  {
   "cell_type": "code",
   "execution_count": null,
   "id": "e9853805-787d-4966-a5df-e0228f186f7f",
   "metadata": {},
   "outputs": [],
   "source": []
  }
 ],
 "metadata": {
  "kernelspec": {
   "display_name": "Python 3 (ipykernel)",
   "language": "python",
   "name": "python3"
  },
  "language_info": {
   "codemirror_mode": {
    "name": "ipython",
    "version": 3
   },
   "file_extension": ".py",
   "mimetype": "text/x-python",
   "name": "python",
   "nbconvert_exporter": "python",
   "pygments_lexer": "ipython3",
   "version": "3.8.10"
  }
 },
 "nbformat": 4,
 "nbformat_minor": 5
}
