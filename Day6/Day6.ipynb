{
 "cells": [
  {
   "cell_type": "markdown",
   "id": "c97c12ae-ed74-4902-9ca3-2ade305b7b85",
   "metadata": {},
   "source": [
    "# Partie 1"
   ]
  },
  {
   "cell_type": "code",
   "execution_count": 25,
   "id": "5579504a-d1f0-42e8-ae10-65148e018c7b",
   "metadata": {},
   "outputs": [
    {
     "data": {
      "text/plain": [
       "array([3, 1, 5, 4, 4, 4, 5, 3, 4, 4, 1, 4, 2, 3, 1, 3, 3, 2, 3, 2, 5, 1,\n",
       "       1, 4, 4, 3, 2, 4, 2, 4, 1, 5, 3, 3, 2, 2, 2, 5, 5, 1, 3, 4, 5, 1,\n",
       "       5, 5, 1, 1, 1, 4, 3, 2, 3, 3, 3, 4, 4, 4, 5, 5, 1, 3, 3, 5, 4, 5,\n",
       "       5, 5, 1, 1, 2, 4, 3, 4, 5, 4, 5, 2, 2, 3, 5, 2, 1, 2, 4, 3, 5, 1,\n",
       "       3, 1, 4, 4, 1, 3, 2, 3, 2, 4, 5, 2, 4, 1, 4, 3, 1, 3, 1, 5, 1, 3,\n",
       "       5, 4, 3, 1, 5, 3, 3, 5, 4, 2, 3, 4, 1, 2, 1, 1, 4, 4, 4, 3, 1, 1,\n",
       "       1, 1, 1, 4, 2, 5, 1, 1, 2, 1, 5, 3, 4, 1, 5, 4, 1, 3, 3, 1, 4, 4,\n",
       "       5, 3, 1, 1, 3, 3, 3, 1, 1, 5, 4, 2, 5, 1, 1, 5, 5, 1, 4, 2, 2, 5,\n",
       "       3, 1, 1, 3, 3, 5, 3, 3, 2, 4, 3, 2, 5, 2, 5, 4, 5, 4, 3, 2, 4, 3,\n",
       "       5, 1, 2, 2, 4, 3, 1, 5, 5, 1, 3, 1, 3, 2, 2, 4, 5, 4, 2, 3, 2, 3,\n",
       "       4, 1, 3, 4, 2, 5, 4, 4, 2, 2, 1, 4, 1, 5, 1, 5, 4, 3, 3, 3, 3, 3,\n",
       "       5, 2, 1, 5, 5, 3, 5, 2, 1, 1, 4, 2, 2, 5, 1, 4, 3, 3, 4, 4, 2, 3,\n",
       "       2, 1, 3, 1, 5, 2, 1, 5, 1, 3, 1, 4, 2, 4, 5, 1, 4, 5, 5, 3, 5, 1,\n",
       "       5, 4, 1, 3, 4, 1, 1, 4, 5, 5, 2, 1, 3, 3])"
      ]
     },
     "execution_count": 25,
     "metadata": {},
     "output_type": "execute_result"
    }
   ],
   "source": [
    "import numpy as np\n",
    "\n",
    "data = np.genfromtxt(\"input6.txt\", delimiter=\",\", dtype=\"int\")\n",
    "\n",
    "data"
   ]
  },
  {
   "cell_type": "code",
   "execution_count": 26,
   "id": "24da885c-ae09-4552-919b-e1cca608b86e",
   "metadata": {},
   "outputs": [
    {
     "data": {
      "text/plain": [
       "345793"
      ]
     },
     "execution_count": 26,
     "metadata": {},
     "output_type": "execute_result"
    }
   ],
   "source": [
    "nbFishState = np.array([np.count_nonzero(data == i) for i in range(9)])\n",
    "\n",
    "for i in range(80):\n",
    "    nbFishState = np.roll(nbFishState, -1)\n",
    "    nbFishState[6] += nbFishState[8]\n",
    "    \n",
    "sum(nbFishState)"
   ]
  },
  {
   "cell_type": "markdown",
   "id": "ea2e6c87-974a-4833-a8f4-1303a97eb3c4",
   "metadata": {},
   "source": [
    "# Partie 2"
   ]
  },
  {
   "cell_type": "code",
   "execution_count": 27,
   "id": "866c6ef4-a390-480e-bf00-a3a65987313c",
   "metadata": {},
   "outputs": [
    {
     "data": {
      "text/plain": [
       "1572643095893"
      ]
     },
     "execution_count": 27,
     "metadata": {},
     "output_type": "execute_result"
    }
   ],
   "source": [
    "nbFishState = np.array([np.count_nonzero(data == i) for i in range(9)])\n",
    "\n",
    "for i in range(256):\n",
    "    nbFishState = np.roll(nbFishState, -1)\n",
    "    nbFishState[6] += nbFishState[8]\n",
    "    \n",
    "sum(nbFishState)"
   ]
  }
 ],
 "metadata": {
  "kernelspec": {
   "display_name": "Python 3 (ipykernel)",
   "language": "python",
   "name": "python3"
  },
  "language_info": {
   "codemirror_mode": {
    "name": "ipython",
    "version": 3
   },
   "file_extension": ".py",
   "mimetype": "text/x-python",
   "name": "python",
   "nbconvert_exporter": "python",
   "pygments_lexer": "ipython3",
   "version": "3.8.10"
  }
 },
 "nbformat": 4,
 "nbformat_minor": 5
}
