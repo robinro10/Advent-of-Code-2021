{
 "cells": [
  {
   "cell_type": "markdown",
   "id": "3f15381c-f827-4efa-8635-1c43d8996934",
   "metadata": {},
   "source": [
    "# Partie 1"
   ]
  },
  {
   "cell_type": "code",
   "execution_count": 111,
   "id": "1d0b8856-4541-4abb-bc11-b2b3a6d87f4f",
   "metadata": {},
   "outputs": [
    {
     "name": "stdout",
     "output_type": "stream",
     "text": [
      "991\n",
      "991\n"
     ]
    }
   ],
   "source": [
    "import numpy as np\n",
    "from parse import *\n",
    "\n",
    "with open(\"input5.txt\", \"r\") as file:\n",
    "    lines = file.readlines()\n",
    "\n",
    "x1 = list()\n",
    "x2 = list()\n",
    "y1 = list()\n",
    "y2 = list()\n",
    "\n",
    "for i in range(len(lines)):\n",
    "    res = parse(\"{:d},{:d} -> {:d},{:d}\", lines[i].strip())\n",
    "    x1.append(res[0])\n",
    "    y1.append(res[1])\n",
    "    x2.append(res[2])\n",
    "    y2.append(res[3])\n",
    "    \n",
    "row = max(max(x1), max(x2)) + 1\n",
    "col = max(max(y1), max(y2)) + 1\n",
    "\n",
    "print(col)\n",
    "print(row)\n",
    "    \n"
   ]
  },
  {
   "cell_type": "code",
   "execution_count": 44,
   "id": "7357ce34-302e-40ff-a0d5-439eda02b0df",
   "metadata": {},
   "outputs": [
    {
     "data": {
      "text/plain": [
       "array([[0, 0, 0, ..., 0, 0, 0],\n",
       "       [0, 0, 0, ..., 0, 0, 0],\n",
       "       [0, 0, 0, ..., 0, 0, 0],\n",
       "       ...,\n",
       "       [0, 0, 0, ..., 0, 0, 0],\n",
       "       [0, 0, 0, ..., 0, 0, 0],\n",
       "       [0, 0, 0, ..., 0, 0, 0]])"
      ]
     },
     "execution_count": 44,
     "metadata": {},
     "output_type": "execute_result"
    }
   ],
   "source": [
    "mat = np.zeros((row, col), dtype=\"int\")\n",
    "\n",
    "for i in range(len(x1)):\n",
    "    \n",
    "    if x1[i] != x2[i] and y1[i] != y2[i]:\n",
    "        continue\n",
    "        \n",
    "    for j in range(min(x1[i], x2[i]), max(x1[i], x2[i]) + 1):\n",
    "        for k in range(min(y1[i], y2[i]), max(y1[i], y2[i]) + 1):\n",
    "            mat[k][j] = mat[k][j] + 1\n",
    "            \n",
    "mat"
   ]
  },
  {
   "cell_type": "code",
   "execution_count": 46,
   "id": "d1fd2e07-af24-44b6-a61f-e0cfb297f33f",
   "metadata": {},
   "outputs": [
    {
     "data": {
      "text/plain": [
       "4873"
      ]
     },
     "execution_count": 46,
     "metadata": {},
     "output_type": "execute_result"
    }
   ],
   "source": [
    "np.sum(mat >= 2)"
   ]
  },
  {
   "cell_type": "code",
   "execution_count": 101,
   "id": "2d10ad95-9d2d-49e5-b5de-498ed500b9e1",
   "metadata": {},
   "outputs": [
    {
     "name": "stdout",
     "output_type": "stream",
     "text": [
      "10\n",
      "9\n",
      "8\n",
      "7\n",
      "6\n",
      "5\n",
      "4\n",
      "3\n"
     ]
    }
   ],
   "source": [
    "for i in range(10, 2, -1):\n",
    "    print(i)"
   ]
  },
  {
   "cell_type": "markdown",
   "id": "70e9d67f-c901-4c55-9533-1eef974b2e4d",
   "metadata": {},
   "source": [
    "# Partie 2"
   ]
  },
  {
   "cell_type": "code",
   "execution_count": 114,
   "id": "5ad42e1a-5eec-4a7d-ad65-02b416d6170e",
   "metadata": {},
   "outputs": [],
   "source": [
    "mat = np.zeros((row, col), dtype=\"int\")\n",
    "\n",
    "for i in range(len(x1)):\n",
    "    \n",
    "    if x1[i] == x2[i] or y1[i] == y2[i]:\n",
    "        for j in range(min(x1[i], x2[i]), max(x1[i], x2[i]) + 1):\n",
    "            for k in range(min(y1[i], y2[i]), max(y1[i], y2[i]) + 1):\n",
    "                mat[k][j] = mat[k][j] + 1\n",
    "    \n",
    "    elif abs(x1[i] - x2[i]) == abs(y1[i] - y2[i]):\n",
    "    #elif ((x1[i] == y1[i]) and (x2[i] == y2[i])) or (x1[i] == y2[i] and x2[i] == y1[i]):\n",
    "        for j in range(min(x1[i], x2[i]), max(x1[i], x2[i]) + 1):\n",
    "            for k in range(min(y1[i], y2[i]), max(y1[i], y2[i]) + 1):\n",
    "                if (k + j) == (x1[i] + y1[i]) or (k - j) == (y1[i] - x1[i]):\n",
    "                    mat[k][j] = mat[k][j] + 1\n",
    "            \n"
   ]
  },
  {
   "cell_type": "code",
   "execution_count": 115,
   "id": "246007f2-1475-4331-b2eb-2a36211e6188",
   "metadata": {},
   "outputs": [
    {
     "data": {
      "text/plain": [
       "19472"
      ]
     },
     "execution_count": 115,
     "metadata": {},
     "output_type": "execute_result"
    }
   ],
   "source": [
    "np.sum(mat >= 2)"
   ]
  }
 ],
 "metadata": {
  "kernelspec": {
   "display_name": "Python 3 (ipykernel)",
   "language": "python",
   "name": "python3"
  },
  "language_info": {
   "codemirror_mode": {
    "name": "ipython",
    "version": 3
   },
   "file_extension": ".py",
   "mimetype": "text/x-python",
   "name": "python",
   "nbconvert_exporter": "python",
   "pygments_lexer": "ipython3",
   "version": "3.8.10"
  }
 },
 "nbformat": 4,
 "nbformat_minor": 5
}
